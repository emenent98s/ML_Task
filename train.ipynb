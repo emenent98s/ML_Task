{
 "cells": [
  {
   "cell_type": "code",
   "execution_count": 1,
   "id": "e1080dc2",
   "metadata": {},
   "outputs": [],
   "source": [
    "#!pip install tensorflow"
   ]
  },
  {
   "cell_type": "markdown",
   "id": "49150605",
   "metadata": {},
   "source": [
    "# Model to Solve Surface Area of Cylinder"
   ]
  },
  {
   "cell_type": "markdown",
   "id": "380e0305",
   "metadata": {},
   "source": [
    "                                             Area=2*pi*Radius*(Radius + Height)"
   ]
  },
  {
   "cell_type": "markdown",
   "id": "77a40b2a",
   "metadata": {},
   "source": [
    "# Import Necessary Libraries:"
   ]
  },
  {
   "cell_type": "code",
   "execution_count": 2,
   "id": "34ca6ac0",
   "metadata": {},
   "outputs": [],
   "source": [
    "import numpy as np\n",
    "import random\n",
    "import math\n",
    "import csv\n",
    "import pandas as pd\n",
    "import matplotlib.pyplot as plt\n",
    "from sklearn.preprocessing import StandardScaler\n",
    "from sklearn.linear_model import LinearRegression\n",
    "from sklearn.svm import SVR\n",
    "from sklearn.ensemble import RandomForestRegressor\n",
    "from sklearn.metrics import mean_absolute_error,mean_squared_error\n",
    "import joblib\n"
   ]
  },
  {
   "cell_type": "markdown",
   "id": "6cefb24f",
   "metadata": {},
   "source": [
    "# Load the Data Set"
   ]
  },
  {
   "cell_type": "code",
   "execution_count": 3,
   "id": "6c3259df",
   "metadata": {},
   "outputs": [
    {
     "name": "stdout",
     "output_type": "stream",
     "text": [
      "         Radius     Height\n",
      "0      5.808408   6.837923\n",
      "1      1.518669  12.999257\n",
      "2      4.184247  14.179424\n",
      "3      4.268658  15.587195\n",
      "4      6.619453   8.116724\n",
      "...         ...        ...\n",
      "15995  7.802823  12.390662\n",
      "15996  8.736951  12.822144\n",
      "15997  2.959246   5.661544\n",
      "15998  8.714772   6.324407\n",
      "15999  7.690904  11.039994\n",
      "\n",
      "[16000 rows x 2 columns]\n",
      "0         461.531721\n",
      "1         138.531184\n",
      "2         482.788225\n",
      "3         532.549338\n",
      "4         612.895996\n",
      "            ...     \n",
      "15995     990.017557\n",
      "15996    1183.505559\n",
      "15997     160.290564\n",
      "15998     823.493248\n",
      "15999     905.140165\n",
      "Name: Surface_Area, Length: 16000, dtype: float64\n",
      "        Radius     Height\n",
      "0     2.616702   7.011029\n",
      "1     3.542226   4.631502\n",
      "2     4.960203  10.167917\n",
      "3     8.886203   8.385712\n",
      "4     2.361551   6.559114\n",
      "...        ...        ...\n",
      "3995  4.744217  16.049499\n",
      "3996  6.482158   4.512027\n",
      "3997  4.394911   8.166574\n",
      "3998  4.648475  15.558985\n",
      "3999  6.143898  18.462406\n",
      "\n",
      "[4000 rows x 2 columns]\n"
     ]
    }
   ],
   "source": [
    "train_dataset=pd.read_csv(\"train_dataset.csv\")\n",
    "test_dataset=pd.read_csv(\"test_dataset.csv\")\n",
    "X_train=train_dataset.iloc[:,:-1]\n",
    "y_train=train_dataset.iloc[:,-1]\n",
    "X_test=test_dataset.iloc[:,:-1]\n",
    "y_test=test_dataset.iloc[:,-1]\n",
    "print(X_train)\n",
    "print(y_train)\n",
    "print(X_test)"
   ]
  },
  {
   "cell_type": "markdown",
   "id": "bac7d6b8",
   "metadata": {},
   "source": [
    "# I. Linear Regression Model"
   ]
  },
  {
   "cell_type": "markdown",
   "id": "6e2ebdaf",
   "metadata": {},
   "source": [
    "# Train the model"
   ]
  },
  {
   "cell_type": "code",
   "execution_count": 4,
   "id": "7576f9df",
   "metadata": {},
   "outputs": [
    {
     "name": "stdout",
     "output_type": "stream",
     "text": [
      "0.9452698980711132\n"
     ]
    }
   ],
   "source": [
    "\n",
    "# Evaluate the models\n",
    "scaler = StandardScaler()\n",
    "X_train_scaled = scaler.fit_transform(X_train)\n",
    "X_test_scaled = scaler.transform(X_test)\n",
    "linear_reg_model=LinearRegression()\n",
    "linear_reg_model.fit(X_train_scaled,y_train)\n",
    "y_pred = linear_reg_model.predict(X_test_scaled)\n",
    "#rf_predictions = rf_model.predict(X_test_scaled)\n",
    "print(linear_reg_model.score(X_test_scaled, y_test))"
   ]
  },
  {
   "cell_type": "markdown",
   "id": "9105bc52",
   "metadata": {},
   "source": [
    "# Evaluate the model"
   ]
  },
  {
   "cell_type": "code",
   "execution_count": 5,
   "id": "c8edd899",
   "metadata": {},
   "outputs": [
    {
     "name": "stdout",
     "output_type": "stream",
     "text": [
      "MAE: 75.0077496206297\n",
      "MSE: 9142.642248504422\n",
      "RMSE: 95.61716503068067\n"
     ]
    }
   ],
   "source": [
    " \n",
    "mae = mean_absolute_error(y_true=y_test,y_pred=y_pred)\n",
    "#squared True returns MSE value, False returns RMSE value.\n",
    "mse = mean_squared_error(y_true=y_test,y_pred=y_pred) #default=True\n",
    "rmse = mean_squared_error(y_true=y_test,y_pred=y_pred,squared=False)\n",
    " \n",
    "print(\"MAE:\",mae)\n",
    "print(\"MSE:\",mse)\n",
    "print(\"RMSE:\",rmse)"
   ]
  },
  {
   "cell_type": "code",
   "execution_count": 6,
   "id": "e7b69b82",
   "metadata": {},
   "outputs": [
    {
     "name": "stdout",
     "output_type": "stream",
     "text": [
      "(4000, 2)\n",
      "(4000,)\n",
      "(4000,)\n"
     ]
    }
   ],
   "source": [
    "print(X_test.shape)\n",
    "\n",
    "print(y_test.shape)\n",
    "\n",
    "print(y_pred.shape)"
   ]
  },
  {
   "cell_type": "markdown",
   "id": "2d2c072e",
   "metadata": {},
   "source": [
    "# II. Random Forest Model"
   ]
  },
  {
   "cell_type": "markdown",
   "id": "a4e2bca1",
   "metadata": {},
   "source": [
    "# Train the Model"
   ]
  },
  {
   "cell_type": "code",
   "execution_count": 7,
   "id": "37bb20cc",
   "metadata": {},
   "outputs": [],
   "source": [
    "rf_model = RandomForestRegressor(n_estimators = 100,  random_state = 12,max_depth=5)\n",
    "rf_model.fit(X_train, y_train)\n",
    "y_predictions = rf_model.predict(X_test)\n"
   ]
  },
  {
   "cell_type": "markdown",
   "id": "b2dadad6",
   "metadata": {},
   "source": [
    "# Evaluate the Model"
   ]
  },
  {
   "cell_type": "code",
   "execution_count": 8,
   "id": "55d72e7b",
   "metadata": {},
   "outputs": [
    {
     "name": "stdout",
     "output_type": "stream",
     "text": [
      "Random forest_SCORE 0.9831464403761538\n",
      "MAE: 75.0077496206297\n",
      "MSE: 2815.3805826065272\n",
      "RMSE: 53.060160031859375\n"
     ]
    }
   ],
   "source": [
    "print(\"Random forest_SCORE\",rf_model.score(X_test, y_test))\n",
    "mse = mean_squared_error(y_test, y_predictions)\n",
    "rmse = mse**.5\n",
    "print(\"MAE:\",mae)\n",
    "print(\"MSE:\",mse)\n",
    "print(\"RMSE:\",rmse)"
   ]
  },
  {
   "cell_type": "markdown",
   "id": "7cce30d1",
   "metadata": {},
   "source": [
    "# Save the Trained Models"
   ]
  },
  {
   "cell_type": "code",
   "execution_count": 9,
   "id": "d319d0a5",
   "metadata": {},
   "outputs": [
    {
     "data": {
      "text/plain": [
       "['linear_reg_model.pkl']"
      ]
     },
     "execution_count": 9,
     "metadata": {},
     "output_type": "execute_result"
    }
   ],
   "source": [
    "joblib.dump(linear_reg_model, 'linear_reg_model.pkl')"
   ]
  },
  {
   "cell_type": "code",
   "execution_count": 10,
   "id": "0b863336",
   "metadata": {},
   "outputs": [
    {
     "data": {
      "text/plain": [
       "['rf_model.pkl']"
      ]
     },
     "execution_count": 10,
     "metadata": {},
     "output_type": "execute_result"
    }
   ],
   "source": [
    "joblib.dump(rf_model, 'rf_model.pkl')"
   ]
  }
 ],
 "metadata": {
  "kernelspec": {
   "display_name": "Python 3 (ipykernel)",
   "language": "python",
   "name": "python3"
  },
  "language_info": {
   "codemirror_mode": {
    "name": "ipython",
    "version": 3
   },
   "file_extension": ".py",
   "mimetype": "text/x-python",
   "name": "python",
   "nbconvert_exporter": "python",
   "pygments_lexer": "ipython3",
   "version": "3.11.4"
  }
 },
 "nbformat": 4,
 "nbformat_minor": 5
}
