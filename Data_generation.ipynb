{
 "cells": [
  {
   "cell_type": "markdown",
   "id": "f7be0b24",
   "metadata": {},
   "source": [
    "# Import the Required Libraries "
   ]
  },
  {
   "cell_type": "code",
   "execution_count": 1,
   "id": "55fb69b6",
   "metadata": {},
   "outputs": [],
   "source": [
    "import random\n",
    "import math\n",
    "import csv"
   ]
  },
  {
   "cell_type": "markdown",
   "id": "06ca50c1",
   "metadata": {},
   "source": [
    "# Generate a Synthetic Dataset"
   ]
  },
  {
   "cell_type": "code",
   "execution_count": 2,
   "id": "e197fd71",
   "metadata": {},
   "outputs": [
    {
     "name": "stdout",
     "output_type": "stream",
     "text": [
      "Train dataset saved to 'train_dataset.csv'\n",
      "Test dataset saved to 'test_dataset.csv'\n"
     ]
    }
   ],
   "source": [
    "# Specify the range for radius (r) and height (h)\n",
    "min_radius = 1\n",
    "max_radius = 10\n",
    "min_height = 1\n",
    "max_height = 20\n",
    "\n",
    "# Number of data points in the dataset\n",
    "num_data_points = 20000\n",
    "\n",
    "# Generate the dataset\n",
    "dataset = []\n",
    "\n",
    "for _ in range(num_data_points):\n",
    "    r = random.uniform(min_radius, max_radius)\n",
    "    h = random.uniform(min_height, max_height)\n",
    "    A = 2 * math.pi * r * (r + h)\n",
    "    dataset.append((r, h, A))\n",
    "\n",
    "# Split the dataset into train and test sets\n",
    "split_ratio = 0.8\n",
    "split_index = int(split_ratio * len(dataset))\n",
    "train_data = dataset[:split_index]\n",
    "test_data = dataset[split_index:]\n",
    "\n",
    "# Save train and test data to CSV files\n",
    "train_filename = \"train_dataset.csv\"\n",
    "test_filename = \"test_dataset.csv\"\n",
    "\n",
    "with open(train_filename, \"w\", newline=\"\") as train_file:\n",
    "    csv_writer = csv.writer(train_file)\n",
    "    csv_writer.writerow([\"Radius\", \"Height\", \"Surface_Area\"])\n",
    "    csv_writer.writerows(train_data)\n",
    "\n",
    "with open(test_filename, \"w\", newline=\"\") as test_file:\n",
    "    csv_writer = csv.writer(test_file)\n",
    "    csv_writer.writerow([\"Radius\", \"Height\", \"Surface_Area\"])\n",
    "    csv_writer.writerows(test_data)\n",
    "\n",
    "print(f\"Train dataset saved to '{train_filename}'\")\n",
    "print(f\"Test dataset saved to '{test_filename}'\")"
   ]
  },
  {
   "cell_type": "code",
   "execution_count": null,
   "id": "fa8e1b0b",
   "metadata": {},
   "outputs": [],
   "source": []
  }
 ],
 "metadata": {
  "kernelspec": {
   "display_name": "Python 3 (ipykernel)",
   "language": "python",
   "name": "python3"
  },
  "language_info": {
   "codemirror_mode": {
    "name": "ipython",
    "version": 3
   },
   "file_extension": ".py",
   "mimetype": "text/x-python",
   "name": "python",
   "nbconvert_exporter": "python",
   "pygments_lexer": "ipython3",
   "version": "3.11.4"
  }
 },
 "nbformat": 4,
 "nbformat_minor": 5
}
