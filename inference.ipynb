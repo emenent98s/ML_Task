{
 "cells": [
  {
   "cell_type": "markdown",
   "id": "7635d95d",
   "metadata": {},
   "source": [
    "# Importing Necessary Libraries "
   ]
  },
  {
   "cell_type": "code",
   "execution_count": 1,
   "id": "8877ff46",
   "metadata": {},
   "outputs": [],
   "source": [
    "import numpy as np\n",
    "import joblib   # For loading the trained model\n",
    "from sklearn.preprocessing import StandardScaler\n"
   ]
  },
  {
   "cell_type": "markdown",
   "id": "0fb33a99",
   "metadata": {},
   "source": [
    "# Load The Trained Model"
   ]
  },
  {
   "cell_type": "code",
   "execution_count": 2,
   "id": "ff4e89a9",
   "metadata": {},
   "outputs": [],
   "source": [
    "# Load the trained model (replace with the actual path to your model file)\n",
    "linear_reg_model = joblib.load('linear_reg_model.pkl')\n",
    "rf_model=joblib.load('rf_model.pkl')\n",
    "\n"
   ]
  },
  {
   "cell_type": "markdown",
   "id": "b35f4f81",
   "metadata": {},
   "source": [
    "# Input User Data:"
   ]
  },
  {
   "cell_type": "code",
   "execution_count": 3,
   "id": "44fdb3fd",
   "metadata": {},
   "outputs": [
    {
     "name": "stdout",
     "output_type": "stream",
     "text": [
      "Enter the radius (r) of the cylinder: 2\n",
      "Enter the height (h) of the cylinder: 3\n"
     ]
    }
   ],
   "source": [
    "# Input values from the user\n",
    "radius = float(input(\"Enter the radius (r) of the cylinder: \"))\n",
    "height = float(input(\"Enter the height (h) of the cylinder: \"))"
   ]
  },
  {
   "cell_type": "markdown",
   "id": "3f0d214d",
   "metadata": {},
   "source": [
    "# Make Predictions and Display Results:"
   ]
  },
  {
   "cell_type": "code",
   "execution_count": 4,
   "id": "fd170e48",
   "metadata": {},
   "outputs": [
    {
     "name": "stdout",
     "output_type": "stream",
     "text": [
      "Predicted Surface Area (A) through Linear Regression: 597.09\n",
      "Predicted Surface Area (A) through Random Forest: 58.51\n"
     ]
    },
    {
     "name": "stderr",
     "output_type": "stream",
     "text": [
      "C:\\Users\\DELL\\anaconda3\\Lib\\site-packages\\sklearn\\base.py:464: UserWarning: X does not have valid feature names, but RandomForestRegressor was fitted with feature names\n",
      "  warnings.warn(\n"
     ]
    }
   ],
   "source": [
    "# Create a NumPy array with the user's input\n",
    "scaler = StandardScaler()\n",
    "user_input = np.array([[radius, height]])\n",
    "user_input_scaled = scaler.fit_transform(user_input)\n",
    "# Make predictions using the model\n",
    "surface_area_prediction = linear_reg_model.predict(user_input_scaled)\n",
    "Surface_Area_pred=rf_model.predict(user_input)\n",
    "\n",
    "# Display the predicted surface area to the user\n",
    "print(f\"Predicted Surface Area (A) through Linear Regression: {surface_area_prediction[0]:.2f}\")\n",
    "print(f\"Predicted Surface Area (A) through Random Forest: {Surface_Area_pred[0]:.2f}\")"
   ]
  }
 ],
 "metadata": {
  "kernelspec": {
   "display_name": "Python 3 (ipykernel)",
   "language": "python",
   "name": "python3"
  },
  "language_info": {
   "codemirror_mode": {
    "name": "ipython",
    "version": 3
   },
   "file_extension": ".py",
   "mimetype": "text/x-python",
   "name": "python",
   "nbconvert_exporter": "python",
   "pygments_lexer": "ipython3",
   "version": "3.11.4"
  }
 },
 "nbformat": 4,
 "nbformat_minor": 5
}
